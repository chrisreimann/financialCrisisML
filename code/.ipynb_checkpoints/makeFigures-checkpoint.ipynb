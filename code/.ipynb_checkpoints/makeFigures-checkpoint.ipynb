{
 "cells": [
  {
   "cell_type": "markdown",
   "metadata": {},
   "source": [
    "# Supplementary Figures: Using Machine Learning to predict Financial Crises\n",
    "\n",
    "**Author:** [Chris Reimann](https://github.com/chrisreimann)<br>\n",
    "**Date created:** 2023/07/28<br>\n",
    "**Last modified:** 2023/10/07<br>\n",
    "**Description:** This notebook constructs additional descriptive figures used in the paper."
   ]
  },
  {
   "cell_type": "code",
   "execution_count": null,
   "metadata": {},
   "outputs": [],
   "source": [
    "import pandas as pd\n",
    "import numpy as np\n",
    "import seaborn as sns\n",
    "import matplotlib.pyplot as plt\n",
    "from prepareData import Data"
   ]
  },
  {
   "cell_type": "markdown",
   "metadata": {},
   "source": [
    "## Crisis Graph: MacroHistory Data\n",
    "Plot all crisis events reported in the MacroHistory data from Jorda et al. 2017 per country and year. "
   ]
  },
  {
   "cell_type": "code",
   "execution_count": null,
   "metadata": {},
   "outputs": [],
   "source": [
    "d1 = Data()\n",
    "crisisYears = d1.df[d1.df.crisis == 1]\n",
    "crisisYears = crisisYears[[\"year\", \"iso\"]].sort_values(\"iso\").reset_index(drop = True)\n",
    "\n",
    "plt.rcParams[\"figure.figsize\"] = (10,6)\n",
    "sns.set_theme(style = \"whitegrid\", rc={'savefig.dpi':300})\n",
    "sns.stripplot(data = crisisYears, x = \"year\", y = \"iso\", size = 8, jitter = False, palette=sns.color_palette(\"husl\", 18), hue=\"iso\", legend=None)\n",
    "plt.grid(axis = \"y\")\n",
    "plt.xlabel(\"Year\")\n",
    "plt.ylabel(\"Country\")\n",
    "plt.xticks(fontsize = 12)\n",
    "plt.xticks(list(range(1870, 2021, 10)))\n",
    "plt.savefig(r\"C:\\Users\\c-rei\\Pictures\\crisisYears.png\", bbox_inches='tight')\n"
   ]
  },
  {
   "cell_type": "markdown",
   "metadata": {},
   "source": [
    "## Crisis Graph: Laeven & Valencia\n"
   ]
  },
  {
   "cell_type": "code",
   "execution_count": null,
   "metadata": {},
   "outputs": [],
   "source": [
    "d2 = Data(crisisData = \"LaevenValencia\")\n",
    "crisisYears = d2.df[d2.df.crisis == 1]\n",
    "crisisYears = crisisYears[[\"year\", \"iso\"]].sort_values(\"iso\").reset_index(drop = True)\n",
    "\n",
    "plt.rcParams[\"figure.figsize\"] = (10,6)\n",
    "sns.set_theme(style = \"whitegrid\")\n",
    "sns.stripplot(data = crisisYears, x = \"year\", y = \"iso\", size = 8, jitter = False, palette=sns.color_palette(\"husl\", 16), hue=\"iso\", legend=None)\n",
    "plt.grid(axis = \"y\")\n",
    "plt.xlabel(\"Year\")\n",
    "plt.ylabel(\"Country\")\n",
    "plt.xticks(fontsize = 12, rotation = 45)\n",
    "plt.xticks(list(range(1970, 2021, 4)))\n",
    "plt.savefig(r\"C:\\Users\\c-rei\\Pictures\\crisisYearsLV.png\", bbox_inches='tight')"
   ]
  },
  {
   "cell_type": "markdown",
   "metadata": {},
   "source": [
    "## Crisis Graph: ESRB\n"
   ]
  },
  {
   "cell_type": "code",
   "execution_count": null,
   "metadata": {},
   "outputs": [],
   "source": [
    "d3 = Data(crisisData = \"ESRB\")\n",
    "crisisYears = d3.df[d3.df.crisis == 1]\n",
    "crisisYears = crisisYears[[\"year\", \"iso\"]].sort_values(\"iso\").reset_index(drop = True)\n",
    "\n",
    "plt.rcParams[\"figure.figsize\"] = (10,6)\n",
    "sns.set_theme(style = \"whitegrid\")\n",
    "sns.stripplot(data = crisisYears, x = \"year\", y = \"iso\", size = 8, jitter = False, palette=sns.color_palette(\"husl\", 13), hue=\"iso\", legend=None)\n",
    "plt.grid(axis = \"y\")\n",
    "plt.xlabel(\"Year\")\n",
    "plt.ylabel(\"Country\")\n",
    "plt.xticks(fontsize = 12, rotation = 45)\n",
    "plt.xticks(list(range(1970, 2021, 4)))\n",
    "plt.savefig(r\"C:\\Users\\c-rei\\Pictures\\crisisYearsESRB.png\", bbox_inches='tight')"
   ]
  }
 ],
 "metadata": {
  "kernelspec": {
   "display_name": "Python 3 (ipykernel)",
   "language": "python",
   "name": "python3"
  },
  "language_info": {
   "codemirror_mode": {
    "name": "ipython",
    "version": 3
   },
   "file_extension": ".py",
   "mimetype": "text/x-python",
   "name": "python",
   "nbconvert_exporter": "python",
   "pygments_lexer": "ipython3",
   "version": "3.9.12"
  }
 },
 "nbformat": 4,
 "nbformat_minor": 2
}
