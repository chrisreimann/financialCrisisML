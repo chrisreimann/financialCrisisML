{
 "cells": [
  {
   "cell_type": "markdown",
   "metadata": {},
   "source": [
    "# Using Machine Learning to predict Financial Crises\n",
    "\n",
    "**Author:** [Chris Reimann](https://github.com/chrisreimann)<br>\n",
    "**Date created:** 2023/07/28<br>\n",
    "**Last modified:** 2023/07/28<br>\n",
    "**Description:** This notebook runs the experiments of the paper \"Using Machine Learning to predict Financial Crises: An Evaluation of different Learning Algorithms for Early Warning Models\"."
   ]
  },
  {
   "cell_type": "markdown",
   "metadata": {},
   "source": [
    "## Setup\n",
    "Load the latest code from the [repository](https://github.com/chrisreimann/financialCrisisML) and import it into the virtual machine."
   ]
  },
  {
   "cell_type": "code",
   "execution_count": 1,
   "metadata": {},
   "outputs": [],
   "source": [
    "from prepareData import Data\n",
    "from doExperiment import Experiment\n",
    "import pandas as pd"
   ]
  },
  {
   "cell_type": "markdown",
   "metadata": {},
   "source": [
    "## Load Data\n",
    "Construct datasets using specified indicator variables from the [MacroHistory](https://www.macrohistory.net/database/) database. Nominal values of local currencies are transformed to GDP-ratios, while growth rates are computed for percentages and index values. For additional details see Chapter 2.3 of the paper."
   ]
  },
  {
   "cell_type": "code",
   "execution_count": 2,
   "metadata": {},
   "outputs": [
    {
     "name": "stdout",
     "output_type": "stream",
     "text": [
      "Macro: The final dataset contains 1591 observations with 63 distinct crisis events.\n",
      "Credit: The final dataset contains 1373 observations with 60 distinct crisis events.\n",
      "Credit & Asset: The final dataset contains 1159 observations with 46 distinct crisis events.\n",
      "All: The final dataset contains 1101 observations with 41 distinct crisis events.\n"
     ]
    }
   ],
   "source": [
    "# Define Indicator Sets\n",
    "iv_macro = [\"rconsbarro\", \"iy\", \"money\", \"xrusd\", \"gdp\", \"cpi\", \"ca\"]\n",
    "iv_credit = [\"tloans\", \"debtServ\", \"yieldCurve\", \"ltd\", \"debtgdp\", \"globaltloans\", \"globalyieldCurve\"]\n",
    "iv_ca = iv_credit + [\"hpnom\"]\n",
    "iv_all = iv_macro + iv_ca\n",
    "\n",
    "# Construct Datasets\n",
    "df_macro = Data(indicators = iv_macro, crisisData = \"MacroHistory\").getReady(\"Macro\")\n",
    "df_credit = Data(indicators = iv_credit, crisisData = \"MacroHistory\").getReady(\"Credit\")\n",
    "df_ca = Data(indicators = iv_ca, crisisData = \"MacroHistory\").getReady(\"Credit & Asset\")\n",
    "df_all = Data(indicators = iv_all, crisisData = \"MacroHistory\").getReady(\"All\")"
   ]
  },
  {
   "cell_type": "markdown",
   "metadata": {},
   "source": [
    "## Construct Experiments\n",
    "Specify models to be tested. Available models are Logit, KNeighbors, RandomForest, ExtraTrees, SVM and NeuralNet."
   ]
  },
  {
   "cell_type": "code",
   "execution_count": 3,
   "metadata": {},
   "outputs": [],
   "source": [
    "# Specify Models to be tested\n",
    "models = [\"Logit\", \"KNeighbors\", \"RandomForest\", \"ExtraTrees\", \"SVM\", \"NeuralNet\"]\n",
    "\n",
    "# Define Experiments for all Indicator Sets.\n",
    "ex_macroIS = Experiment(df_macro, models, \"InSample\")\n",
    "ex_creditIS = Experiment(df_credit, models, \"InSample\")\n",
    "ex_caIS = Experiment(df_ca, models, \"InSample\")\n",
    "ex_allIS = Experiment(df_all, models, \"InSample\")\n",
    "\n",
    "ex_macro = Experiment(df_macro, models, \"CrossVal\")\n",
    "ex_credit = Experiment(df_credit, models, \"CrossVal\")\n",
    "ex_ca = Experiment(df_ca, models, \"CrossVal\")\n",
    "ex_all = Experiment(df_all, models, \"CrossVal\")"
   ]
  },
  {
   "cell_type": "markdown",
   "metadata": {},
   "source": [
    "## Run Experiments\n",
    "### In-Sample\n",
    "Compute ROC values for all models trained and tested on the whole dataset."
   ]
  },
  {
   "cell_type": "code",
   "execution_count": 4,
   "metadata": {},
   "outputs": [
    {
     "data": {
      "text/html": [
       "<div>\n",
       "<style scoped>\n",
       "    .dataframe tbody tr th:only-of-type {\n",
       "        vertical-align: middle;\n",
       "    }\n",
       "\n",
       "    .dataframe tbody tr th {\n",
       "        vertical-align: top;\n",
       "    }\n",
       "\n",
       "    .dataframe thead th {\n",
       "        text-align: right;\n",
       "    }\n",
       "</style>\n",
       "<table border=\"1\" class=\"dataframe\">\n",
       "  <thead>\n",
       "    <tr style=\"text-align: right;\">\n",
       "      <th></th>\n",
       "      <th>Set</th>\n",
       "      <th>Model</th>\n",
       "      <th>AUC</th>\n",
       "    </tr>\n",
       "  </thead>\n",
       "  <tbody>\n",
       "    <tr>\n",
       "      <th>0</th>\n",
       "      <td>Macro</td>\n",
       "      <td>KNeighbors</td>\n",
       "      <td>1.000000</td>\n",
       "    </tr>\n",
       "    <tr>\n",
       "      <th>1</th>\n",
       "      <td>Macro</td>\n",
       "      <td>RandomForest</td>\n",
       "      <td>0.981277</td>\n",
       "    </tr>\n",
       "    <tr>\n",
       "      <th>2</th>\n",
       "      <td>Macro</td>\n",
       "      <td>ExtraTrees</td>\n",
       "      <td>0.833469</td>\n",
       "    </tr>\n",
       "    <tr>\n",
       "      <th>3</th>\n",
       "      <td>Macro</td>\n",
       "      <td>SVM</td>\n",
       "      <td>0.759257</td>\n",
       "    </tr>\n",
       "    <tr>\n",
       "      <th>4</th>\n",
       "      <td>Macro</td>\n",
       "      <td>NeuralNet</td>\n",
       "      <td>0.713687</td>\n",
       "    </tr>\n",
       "    <tr>\n",
       "      <th>5</th>\n",
       "      <td>Macro</td>\n",
       "      <td>Logit</td>\n",
       "      <td>0.707710</td>\n",
       "    </tr>\n",
       "    <tr>\n",
       "      <th>6</th>\n",
       "      <td>Macro</td>\n",
       "      <td>Random Assignment</td>\n",
       "      <td>0.500000</td>\n",
       "    </tr>\n",
       "    <tr>\n",
       "      <th>0</th>\n",
       "      <td>Credit</td>\n",
       "      <td>KNeighbors</td>\n",
       "      <td>1.000000</td>\n",
       "    </tr>\n",
       "    <tr>\n",
       "      <th>1</th>\n",
       "      <td>Credit</td>\n",
       "      <td>RandomForest</td>\n",
       "      <td>0.983538</td>\n",
       "    </tr>\n",
       "    <tr>\n",
       "      <th>2</th>\n",
       "      <td>Credit</td>\n",
       "      <td>ExtraTrees</td>\n",
       "      <td>0.934343</td>\n",
       "    </tr>\n",
       "    <tr>\n",
       "      <th>3</th>\n",
       "      <td>Credit</td>\n",
       "      <td>SVM</td>\n",
       "      <td>0.918643</td>\n",
       "    </tr>\n",
       "    <tr>\n",
       "      <th>4</th>\n",
       "      <td>Credit</td>\n",
       "      <td>NeuralNet</td>\n",
       "      <td>0.851912</td>\n",
       "    </tr>\n",
       "    <tr>\n",
       "      <th>5</th>\n",
       "      <td>Credit</td>\n",
       "      <td>Logit</td>\n",
       "      <td>0.790217</td>\n",
       "    </tr>\n",
       "    <tr>\n",
       "      <th>6</th>\n",
       "      <td>Credit</td>\n",
       "      <td>Random Assignment</td>\n",
       "      <td>0.500000</td>\n",
       "    </tr>\n",
       "    <tr>\n",
       "      <th>0</th>\n",
       "      <td>Credit &amp; Asset</td>\n",
       "      <td>KNeighbors</td>\n",
       "      <td>1.000000</td>\n",
       "    </tr>\n",
       "    <tr>\n",
       "      <th>1</th>\n",
       "      <td>Credit &amp; Asset</td>\n",
       "      <td>RandomForest</td>\n",
       "      <td>0.992726</td>\n",
       "    </tr>\n",
       "    <tr>\n",
       "      <th>2</th>\n",
       "      <td>Credit &amp; Asset</td>\n",
       "      <td>ExtraTrees</td>\n",
       "      <td>0.955384</td>\n",
       "    </tr>\n",
       "    <tr>\n",
       "      <th>3</th>\n",
       "      <td>Credit &amp; Asset</td>\n",
       "      <td>SVM</td>\n",
       "      <td>0.943323</td>\n",
       "    </tr>\n",
       "    <tr>\n",
       "      <th>4</th>\n",
       "      <td>Credit &amp; Asset</td>\n",
       "      <td>NeuralNet</td>\n",
       "      <td>0.864574</td>\n",
       "    </tr>\n",
       "    <tr>\n",
       "      <th>5</th>\n",
       "      <td>Credit &amp; Asset</td>\n",
       "      <td>Logit</td>\n",
       "      <td>0.808380</td>\n",
       "    </tr>\n",
       "    <tr>\n",
       "      <th>6</th>\n",
       "      <td>Credit &amp; Asset</td>\n",
       "      <td>Random Assignment</td>\n",
       "      <td>0.500000</td>\n",
       "    </tr>\n",
       "    <tr>\n",
       "      <th>0</th>\n",
       "      <td>All</td>\n",
       "      <td>KNeighbors</td>\n",
       "      <td>1.000000</td>\n",
       "    </tr>\n",
       "    <tr>\n",
       "      <th>1</th>\n",
       "      <td>All</td>\n",
       "      <td>RandomForest</td>\n",
       "      <td>0.994486</td>\n",
       "    </tr>\n",
       "    <tr>\n",
       "      <th>2</th>\n",
       "      <td>All</td>\n",
       "      <td>ExtraTrees</td>\n",
       "      <td>0.963970</td>\n",
       "    </tr>\n",
       "    <tr>\n",
       "      <th>3</th>\n",
       "      <td>All</td>\n",
       "      <td>SVM</td>\n",
       "      <td>0.951174</td>\n",
       "    </tr>\n",
       "    <tr>\n",
       "      <th>4</th>\n",
       "      <td>All</td>\n",
       "      <td>NeuralNet</td>\n",
       "      <td>0.932865</td>\n",
       "    </tr>\n",
       "    <tr>\n",
       "      <th>5</th>\n",
       "      <td>All</td>\n",
       "      <td>Logit</td>\n",
       "      <td>0.858774</td>\n",
       "    </tr>\n",
       "    <tr>\n",
       "      <th>6</th>\n",
       "      <td>All</td>\n",
       "      <td>Random Assignment</td>\n",
       "      <td>0.500000</td>\n",
       "    </tr>\n",
       "  </tbody>\n",
       "</table>\n",
       "</div>"
      ],
      "text/plain": [
       "              Set              Model       AUC\n",
       "0           Macro         KNeighbors  1.000000\n",
       "1           Macro       RandomForest  0.981277\n",
       "2           Macro         ExtraTrees  0.833469\n",
       "3           Macro                SVM  0.759257\n",
       "4           Macro          NeuralNet  0.713687\n",
       "5           Macro              Logit  0.707710\n",
       "6           Macro  Random Assignment  0.500000\n",
       "0          Credit         KNeighbors  1.000000\n",
       "1          Credit       RandomForest  0.983538\n",
       "2          Credit         ExtraTrees  0.934343\n",
       "3          Credit                SVM  0.918643\n",
       "4          Credit          NeuralNet  0.851912\n",
       "5          Credit              Logit  0.790217\n",
       "6          Credit  Random Assignment  0.500000\n",
       "0  Credit & Asset         KNeighbors  1.000000\n",
       "1  Credit & Asset       RandomForest  0.992726\n",
       "2  Credit & Asset         ExtraTrees  0.955384\n",
       "3  Credit & Asset                SVM  0.943323\n",
       "4  Credit & Asset          NeuralNet  0.864574\n",
       "5  Credit & Asset              Logit  0.808380\n",
       "6  Credit & Asset  Random Assignment  0.500000\n",
       "0             All         KNeighbors  1.000000\n",
       "1             All       RandomForest  0.994486\n",
       "2             All         ExtraTrees  0.963970\n",
       "3             All                SVM  0.951174\n",
       "4             All          NeuralNet  0.932865\n",
       "5             All              Logit  0.858774\n",
       "6             All  Random Assignment  0.500000"
      ]
     },
     "execution_count": 4,
     "metadata": {},
     "output_type": "execute_result"
    }
   ],
   "source": [
    "ex_macroIS.run(disableTqdm = True)\n",
    "ex_creditIS.run(disableTqdm = True)\n",
    "ex_caIS.run(disableTqdm = True)\n",
    "ex_allIS.run(disableTqdm = True)\n",
    "\n",
    "resIS = pd.concat([ex_macroIS.auc, ex_creditIS.auc, ex_caIS.auc, ex_allIS.auc], axis = 0)\n",
    "resIS"
   ]
  },
  {
   "cell_type": "markdown",
   "metadata": {},
   "source": [
    "### Out-of-Sample\n",
    "Run experiments in cross-validation setting."
   ]
  },
  {
   "cell_type": "code",
   "execution_count": 10,
   "metadata": {},
   "outputs": [
    {
     "data": {
      "application/vnd.jupyter.widget-view+json": {
       "model_id": "0adba1447c074394abed8a79fc1927d0",
       "version_major": 2,
       "version_minor": 0
      },
      "text/plain": [
       "Macro: Random Assignment:   0%|          | 0/2 [00:00<?, ?it/s]"
      ]
     },
     "metadata": {},
     "output_type": "display_data"
    },
    {
     "data": {
      "application/vnd.jupyter.widget-view+json": {
       "model_id": "200d4783e1644709ba9c0c78a3bdbb7d",
       "version_major": 2,
       "version_minor": 0
      },
      "text/plain": [
       "Macro: Logit:   0%|          | 0/2 [00:00<?, ?it/s]"
      ]
     },
     "metadata": {},
     "output_type": "display_data"
    },
    {
     "data": {
      "application/vnd.jupyter.widget-view+json": {
       "model_id": "5a22f50923c04372bb47782a6da5ddd2",
       "version_major": 2,
       "version_minor": 0
      },
      "text/plain": [
       "Macro: KNeighbors:   0%|          | 0/2 [00:00<?, ?it/s]"
      ]
     },
     "metadata": {},
     "output_type": "display_data"
    },
    {
     "data": {
      "application/vnd.jupyter.widget-view+json": {
       "model_id": "5cf82771b61842ac8ef030ffd0a0d93d",
       "version_major": 2,
       "version_minor": 0
      },
      "text/plain": [
       "Macro: RandomForest:   0%|          | 0/2 [00:00<?, ?it/s]"
      ]
     },
     "metadata": {},
     "output_type": "display_data"
    },
    {
     "data": {
      "application/vnd.jupyter.widget-view+json": {
       "model_id": "8b41c0cc4ae14401b733c6a58cdeb391",
       "version_major": 2,
       "version_minor": 0
      },
      "text/plain": [
       "Macro: ExtraTrees:   0%|          | 0/2 [00:00<?, ?it/s]"
      ]
     },
     "metadata": {},
     "output_type": "display_data"
    },
    {
     "data": {
      "application/vnd.jupyter.widget-view+json": {
       "model_id": "52a075223a714c1c8785e527d8e64576",
       "version_major": 2,
       "version_minor": 0
      },
      "text/plain": [
       "Macro: SVM:   0%|          | 0/2 [00:00<?, ?it/s]"
      ]
     },
     "metadata": {},
     "output_type": "display_data"
    },
    {
     "data": {
      "application/vnd.jupyter.widget-view+json": {
       "model_id": "254aa6be0c7b49f09c0f375179fd6976",
       "version_major": 2,
       "version_minor": 0
      },
      "text/plain": [
       "Macro: NeuralNet:   0%|          | 0/2 [00:00<?, ?it/s]"
      ]
     },
     "metadata": {},
     "output_type": "display_data"
    },
    {
     "data": {
      "application/vnd.jupyter.widget-view+json": {
       "model_id": "ea8bcd82dbe94cd28db888a1984807c5",
       "version_major": 2,
       "version_minor": 0
      },
      "text/plain": [
       "Credit: Random Assignment:   0%|          | 0/2 [00:00<?, ?it/s]"
      ]
     },
     "metadata": {},
     "output_type": "display_data"
    },
    {
     "data": {
      "application/vnd.jupyter.widget-view+json": {
       "model_id": "84f8799f82874fd890df9613cc9f4214",
       "version_major": 2,
       "version_minor": 0
      },
      "text/plain": [
       "Credit: Logit:   0%|          | 0/2 [00:00<?, ?it/s]"
      ]
     },
     "metadata": {},
     "output_type": "display_data"
    },
    {
     "data": {
      "application/vnd.jupyter.widget-view+json": {
       "model_id": "94822aba632142cc874e7d0fcb90ca7b",
       "version_major": 2,
       "version_minor": 0
      },
      "text/plain": [
       "Credit: KNeighbors:   0%|          | 0/2 [00:00<?, ?it/s]"
      ]
     },
     "metadata": {},
     "output_type": "display_data"
    },
    {
     "data": {
      "application/vnd.jupyter.widget-view+json": {
       "model_id": "30f81360ed304c9799625041fba09615",
       "version_major": 2,
       "version_minor": 0
      },
      "text/plain": [
       "Credit: RandomForest:   0%|          | 0/2 [00:00<?, ?it/s]"
      ]
     },
     "metadata": {},
     "output_type": "display_data"
    },
    {
     "data": {
      "application/vnd.jupyter.widget-view+json": {
       "model_id": "4dff1d2bb67547f3b5a210bfc04507df",
       "version_major": 2,
       "version_minor": 0
      },
      "text/plain": [
       "Credit: ExtraTrees:   0%|          | 0/2 [00:00<?, ?it/s]"
      ]
     },
     "metadata": {},
     "output_type": "display_data"
    },
    {
     "data": {
      "application/vnd.jupyter.widget-view+json": {
       "model_id": "6c0857b75b744f1b933ef79242886d02",
       "version_major": 2,
       "version_minor": 0
      },
      "text/plain": [
       "Credit: SVM:   0%|          | 0/2 [00:00<?, ?it/s]"
      ]
     },
     "metadata": {},
     "output_type": "display_data"
    },
    {
     "data": {
      "application/vnd.jupyter.widget-view+json": {
       "model_id": "e8001510195542cba65b08b90e25990e",
       "version_major": 2,
       "version_minor": 0
      },
      "text/plain": [
       "Credit: NeuralNet:   0%|          | 0/2 [00:00<?, ?it/s]"
      ]
     },
     "metadata": {},
     "output_type": "display_data"
    },
    {
     "data": {
      "application/vnd.jupyter.widget-view+json": {
       "model_id": "305e7d79dd074792820dddfdfc7c6f0b",
       "version_major": 2,
       "version_minor": 0
      },
      "text/plain": [
       "Credit & Asset: Random Assignment:   0%|          | 0/2 [00:00<?, ?it/s]"
      ]
     },
     "metadata": {},
     "output_type": "display_data"
    },
    {
     "data": {
      "application/vnd.jupyter.widget-view+json": {
       "model_id": "f3e7657d4ecb4147b569a06e4431df01",
       "version_major": 2,
       "version_minor": 0
      },
      "text/plain": [
       "Credit & Asset: Logit:   0%|          | 0/2 [00:00<?, ?it/s]"
      ]
     },
     "metadata": {},
     "output_type": "display_data"
    },
    {
     "data": {
      "application/vnd.jupyter.widget-view+json": {
       "model_id": "e97e910ed9a444ae9b9ee9c0877177c3",
       "version_major": 2,
       "version_minor": 0
      },
      "text/plain": [
       "Credit & Asset: KNeighbors:   0%|          | 0/2 [00:00<?, ?it/s]"
      ]
     },
     "metadata": {},
     "output_type": "display_data"
    },
    {
     "data": {
      "application/vnd.jupyter.widget-view+json": {
       "model_id": "8f8cbb923c6041c39160d2cb8f1b56a0",
       "version_major": 2,
       "version_minor": 0
      },
      "text/plain": [
       "Credit & Asset: RandomForest:   0%|          | 0/2 [00:00<?, ?it/s]"
      ]
     },
     "metadata": {},
     "output_type": "display_data"
    },
    {
     "data": {
      "application/vnd.jupyter.widget-view+json": {
       "model_id": "298615290d5f4b0cb96a28287cde6b9d",
       "version_major": 2,
       "version_minor": 0
      },
      "text/plain": [
       "Credit & Asset: ExtraTrees:   0%|          | 0/2 [00:00<?, ?it/s]"
      ]
     },
     "metadata": {},
     "output_type": "display_data"
    },
    {
     "data": {
      "application/vnd.jupyter.widget-view+json": {
       "model_id": "5ba70aa26a6840ed871d0d8527dfe443",
       "version_major": 2,
       "version_minor": 0
      },
      "text/plain": [
       "Credit & Asset: SVM:   0%|          | 0/2 [00:00<?, ?it/s]"
      ]
     },
     "metadata": {},
     "output_type": "display_data"
    },
    {
     "data": {
      "application/vnd.jupyter.widget-view+json": {
       "model_id": "30d871b9a14e4981a3a4e852a573675d",
       "version_major": 2,
       "version_minor": 0
      },
      "text/plain": [
       "Credit & Asset: NeuralNet:   0%|          | 0/2 [00:00<?, ?it/s]"
      ]
     },
     "metadata": {},
     "output_type": "display_data"
    },
    {
     "data": {
      "application/vnd.jupyter.widget-view+json": {
       "model_id": "89ff8c6bc1564288a9b608965c4998f2",
       "version_major": 2,
       "version_minor": 0
      },
      "text/plain": [
       "All: Random Assignment:   0%|          | 0/2 [00:00<?, ?it/s]"
      ]
     },
     "metadata": {},
     "output_type": "display_data"
    },
    {
     "data": {
      "application/vnd.jupyter.widget-view+json": {
       "model_id": "35f2d002d3a443cc889dd6572af9367f",
       "version_major": 2,
       "version_minor": 0
      },
      "text/plain": [
       "All: Logit:   0%|          | 0/2 [00:00<?, ?it/s]"
      ]
     },
     "metadata": {},
     "output_type": "display_data"
    },
    {
     "data": {
      "application/vnd.jupyter.widget-view+json": {
       "model_id": "aeff79b0feb24f9d8584927bec0c61c9",
       "version_major": 2,
       "version_minor": 0
      },
      "text/plain": [
       "All: KNeighbors:   0%|          | 0/2 [00:00<?, ?it/s]"
      ]
     },
     "metadata": {},
     "output_type": "display_data"
    },
    {
     "data": {
      "application/vnd.jupyter.widget-view+json": {
       "model_id": "68b232a13d9a49f79765840ae7725aec",
       "version_major": 2,
       "version_minor": 0
      },
      "text/plain": [
       "All: RandomForest:   0%|          | 0/2 [00:00<?, ?it/s]"
      ]
     },
     "metadata": {},
     "output_type": "display_data"
    },
    {
     "data": {
      "application/vnd.jupyter.widget-view+json": {
       "model_id": "e0840f7cf0b14af89ee7902c53a77b2e",
       "version_major": 2,
       "version_minor": 0
      },
      "text/plain": [
       "All: ExtraTrees:   0%|          | 0/2 [00:00<?, ?it/s]"
      ]
     },
     "metadata": {},
     "output_type": "display_data"
    },
    {
     "data": {
      "application/vnd.jupyter.widget-view+json": {
       "model_id": "3292218e66ad4419a85bc3ca8e98d838",
       "version_major": 2,
       "version_minor": 0
      },
      "text/plain": [
       "All: SVM:   0%|          | 0/2 [00:00<?, ?it/s]"
      ]
     },
     "metadata": {},
     "output_type": "display_data"
    },
    {
     "data": {
      "application/vnd.jupyter.widget-view+json": {
       "model_id": "4267ecd594d84e5fb44f106c093d716e",
       "version_major": 2,
       "version_minor": 0
      },
      "text/plain": [
       "All: NeuralNet:   0%|          | 0/2 [00:00<?, ?it/s]"
      ]
     },
     "metadata": {},
     "output_type": "display_data"
    },
    {
     "data": {
      "text/html": [
       "<div>\n",
       "<style scoped>\n",
       "    .dataframe tbody tr th:only-of-type {\n",
       "        vertical-align: middle;\n",
       "    }\n",
       "\n",
       "    .dataframe tbody tr th {\n",
       "        vertical-align: top;\n",
       "    }\n",
       "\n",
       "    .dataframe thead th {\n",
       "        text-align: right;\n",
       "    }\n",
       "</style>\n",
       "<table border=\"1\" class=\"dataframe\">\n",
       "  <thead>\n",
       "    <tr style=\"text-align: right;\">\n",
       "      <th></th>\n",
       "      <th>Set</th>\n",
       "      <th>Model</th>\n",
       "      <th>AUC</th>\n",
       "    </tr>\n",
       "  </thead>\n",
       "  <tbody>\n",
       "    <tr>\n",
       "      <th>0</th>\n",
       "      <td>Macro</td>\n",
       "      <td>RandomForest</td>\n",
       "      <td>0.708428</td>\n",
       "    </tr>\n",
       "    <tr>\n",
       "      <th>1</th>\n",
       "      <td>Macro</td>\n",
       "      <td>Logit</td>\n",
       "      <td>0.678937</td>\n",
       "    </tr>\n",
       "    <tr>\n",
       "      <th>2</th>\n",
       "      <td>Macro</td>\n",
       "      <td>NeuralNet</td>\n",
       "      <td>0.661045</td>\n",
       "    </tr>\n",
       "    <tr>\n",
       "      <th>3</th>\n",
       "      <td>Macro</td>\n",
       "      <td>ExtraTrees</td>\n",
       "      <td>0.643101</td>\n",
       "    </tr>\n",
       "    <tr>\n",
       "      <th>4</th>\n",
       "      <td>Macro</td>\n",
       "      <td>KNeighbors</td>\n",
       "      <td>0.612661</td>\n",
       "    </tr>\n",
       "    <tr>\n",
       "      <th>5</th>\n",
       "      <td>Macro</td>\n",
       "      <td>SVM</td>\n",
       "      <td>0.530819</td>\n",
       "    </tr>\n",
       "    <tr>\n",
       "      <th>6</th>\n",
       "      <td>Macro</td>\n",
       "      <td>Random Assignment</td>\n",
       "      <td>0.500000</td>\n",
       "    </tr>\n",
       "    <tr>\n",
       "      <th>0</th>\n",
       "      <td>Credit</td>\n",
       "      <td>ExtraTrees</td>\n",
       "      <td>0.837239</td>\n",
       "    </tr>\n",
       "    <tr>\n",
       "      <th>1</th>\n",
       "      <td>Credit</td>\n",
       "      <td>RandomForest</td>\n",
       "      <td>0.816213</td>\n",
       "    </tr>\n",
       "    <tr>\n",
       "      <th>2</th>\n",
       "      <td>Credit</td>\n",
       "      <td>KNeighbors</td>\n",
       "      <td>0.806163</td>\n",
       "    </tr>\n",
       "    <tr>\n",
       "      <th>3</th>\n",
       "      <td>Credit</td>\n",
       "      <td>NeuralNet</td>\n",
       "      <td>0.775941</td>\n",
       "    </tr>\n",
       "    <tr>\n",
       "      <th>4</th>\n",
       "      <td>Credit</td>\n",
       "      <td>SVM</td>\n",
       "      <td>0.772495</td>\n",
       "    </tr>\n",
       "    <tr>\n",
       "      <th>5</th>\n",
       "      <td>Credit</td>\n",
       "      <td>Logit</td>\n",
       "      <td>0.752003</td>\n",
       "    </tr>\n",
       "    <tr>\n",
       "      <th>6</th>\n",
       "      <td>Credit</td>\n",
       "      <td>Random Assignment</td>\n",
       "      <td>0.500000</td>\n",
       "    </tr>\n",
       "    <tr>\n",
       "      <th>0</th>\n",
       "      <td>Credit &amp; Asset</td>\n",
       "      <td>RandomForest</td>\n",
       "      <td>0.841839</td>\n",
       "    </tr>\n",
       "    <tr>\n",
       "      <th>1</th>\n",
       "      <td>Credit &amp; Asset</td>\n",
       "      <td>ExtraTrees</td>\n",
       "      <td>0.839323</td>\n",
       "    </tr>\n",
       "    <tr>\n",
       "      <th>2</th>\n",
       "      <td>Credit &amp; Asset</td>\n",
       "      <td>KNeighbors</td>\n",
       "      <td>0.804649</td>\n",
       "    </tr>\n",
       "    <tr>\n",
       "      <th>3</th>\n",
       "      <td>Credit &amp; Asset</td>\n",
       "      <td>NeuralNet</td>\n",
       "      <td>0.799134</td>\n",
       "    </tr>\n",
       "    <tr>\n",
       "      <th>4</th>\n",
       "      <td>Credit &amp; Asset</td>\n",
       "      <td>Logit</td>\n",
       "      <td>0.783360</td>\n",
       "    </tr>\n",
       "    <tr>\n",
       "      <th>5</th>\n",
       "      <td>Credit &amp; Asset</td>\n",
       "      <td>SVM</td>\n",
       "      <td>0.743597</td>\n",
       "    </tr>\n",
       "    <tr>\n",
       "      <th>6</th>\n",
       "      <td>Credit &amp; Asset</td>\n",
       "      <td>Random Assignment</td>\n",
       "      <td>0.500000</td>\n",
       "    </tr>\n",
       "    <tr>\n",
       "      <th>0</th>\n",
       "      <td>All</td>\n",
       "      <td>ExtraTrees</td>\n",
       "      <td>0.840429</td>\n",
       "    </tr>\n",
       "    <tr>\n",
       "      <th>1</th>\n",
       "      <td>All</td>\n",
       "      <td>RandomForest</td>\n",
       "      <td>0.827548</td>\n",
       "    </tr>\n",
       "    <tr>\n",
       "      <th>2</th>\n",
       "      <td>All</td>\n",
       "      <td>KNeighbors</td>\n",
       "      <td>0.802930</td>\n",
       "    </tr>\n",
       "    <tr>\n",
       "      <th>3</th>\n",
       "      <td>All</td>\n",
       "      <td>NeuralNet</td>\n",
       "      <td>0.798052</td>\n",
       "    </tr>\n",
       "    <tr>\n",
       "      <th>4</th>\n",
       "      <td>All</td>\n",
       "      <td>Logit</td>\n",
       "      <td>0.767324</td>\n",
       "    </tr>\n",
       "    <tr>\n",
       "      <th>5</th>\n",
       "      <td>All</td>\n",
       "      <td>SVM</td>\n",
       "      <td>0.753051</td>\n",
       "    </tr>\n",
       "    <tr>\n",
       "      <th>6</th>\n",
       "      <td>All</td>\n",
       "      <td>Random Assignment</td>\n",
       "      <td>0.500000</td>\n",
       "    </tr>\n",
       "  </tbody>\n",
       "</table>\n",
       "</div>"
      ],
      "text/plain": [
       "              Set              Model       AUC\n",
       "0           Macro       RandomForest  0.708428\n",
       "1           Macro              Logit  0.678937\n",
       "2           Macro          NeuralNet  0.661045\n",
       "3           Macro         ExtraTrees  0.643101\n",
       "4           Macro         KNeighbors  0.612661\n",
       "5           Macro                SVM  0.530819\n",
       "6           Macro  Random Assignment  0.500000\n",
       "0          Credit         ExtraTrees  0.837239\n",
       "1          Credit       RandomForest  0.816213\n",
       "2          Credit         KNeighbors  0.806163\n",
       "3          Credit          NeuralNet  0.775941\n",
       "4          Credit                SVM  0.772495\n",
       "5          Credit              Logit  0.752003\n",
       "6          Credit  Random Assignment  0.500000\n",
       "0  Credit & Asset       RandomForest  0.841839\n",
       "1  Credit & Asset         ExtraTrees  0.839323\n",
       "2  Credit & Asset         KNeighbors  0.804649\n",
       "3  Credit & Asset          NeuralNet  0.799134\n",
       "4  Credit & Asset              Logit  0.783360\n",
       "5  Credit & Asset                SVM  0.743597\n",
       "6  Credit & Asset  Random Assignment  0.500000\n",
       "0             All         ExtraTrees  0.840429\n",
       "1             All       RandomForest  0.827548\n",
       "2             All         KNeighbors  0.802930\n",
       "3             All          NeuralNet  0.798052\n",
       "4             All              Logit  0.767324\n",
       "5             All                SVM  0.753051\n",
       "6             All  Random Assignment  0.500000"
      ]
     },
     "execution_count": 10,
     "metadata": {},
     "output_type": "execute_result"
    },
    {
     "data": {
      "image/png": "[encoded data removed]",
      "text/plain": [
       "<Figure size 600x600 with 1 Axes>"
      ]
     },
     "metadata": {},
     "output_type": "display_data"
    }
   ],
   "source": [
    "n = 2 # Specify number of cross-validation iterations\n",
    "\n",
    "ex_macro.run(n)\n",
    "ex_credit.run(n)\n",
    "ex_ca.run(n)\n",
    "ex_all.run(n)\n",
    "\n",
    "resCrossVal = pd.concat([ex_macro.auc, ex_credit.auc, ex_ca.auc, ex_all.auc])\n",
    "ex_all.rocGraph()\n",
    "resCrossVal"
   ]
  },
  {
   "cell_type": "code",
   "execution_count": null,
   "metadata": {},
   "outputs": [],
   "source": []
  }
 ],
 "metadata": {
  "kernelspec": {
   "display_name": "Python 3",
   "language": "python",
   "name": "python3"
  },
  "language_info": {
   "codemirror_mode": {
    "name": "ipython",
    "version": 3
   },
   "file_extension": ".py",
   "mimetype": "text/x-python",
   "name": "python",
   "nbconvert_exporter": "python",
   "pygments_lexer": "ipython3",
   "version": "3.9.12"
  },
  "orig_nbformat": 4
 },
 "nbformat": 4,
 "nbformat_minor": 2
}
